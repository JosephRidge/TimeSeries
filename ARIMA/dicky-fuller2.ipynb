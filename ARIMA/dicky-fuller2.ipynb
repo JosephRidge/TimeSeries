{
 "cells": [
  {
   "cell_type": "markdown",
   "metadata": {},
   "source": [
    "## Taking the difference\n",
    "\n",
    "In this exercise, you will to prepare a time series of the population of a city for modeling. If you could predict the growth rate of a city then it would be possible to plan and build the infrastructure that the city will need later, thus future-proofing public spending. In this case the time series is fictitious but its perfect to practice on.\n",
    "\n",
    "You will test for stationarity by eye and use the Augmented Dicky-Fuller test, and take the difference to make the dataset stationary.\n",
    "\n",
    "The DataFrame of the time series has been loaded in for you as city and the adfuller() function has been imported."
   ]
  },
  {
   "cell_type": "markdown",
   "metadata": {},
   "source": [
    "### Instructions\n",
    "\n",
    "Run the augmented Dicky-Fuller on the 'city_population' column of city.\n",
    "Print the test statistic and the p-value.\n",
    "\n",
    "Take the first difference of city dropping the NaN values. Assign this to city_stationary and run the test again.\n",
    "\n",
    "Take the second difference of city, by applying the .diff() method twice and drop the NaN values."
   ]
  },
  {
   "cell_type": "code",
   "execution_count": null,
   "metadata": {
    "vscode": {
     "languageId": "plaintext"
    }
   },
   "outputs": [],
   "source": [
    "# Run the ADF test on the time series\n",
    "result = adfuller(city['city_population'])\n",
    "\n",
    "# Plot the time series\n",
    "fig, ax = plt.subplots()\n",
    "city.plot(ax=ax)\n",
    "plt.show()\n",
    "\n",
    "# Print the test statistic and the p-value\n",
    "print('ADF Statistic:', result[0])\n",
    "print('p-value:', result[1])\n",
    "\n",
    "# Take the first difference of city dropping the NaN values. Assign this to city_stationary and run the test again.\n",
    "\n",
    "city_stationary = city.diff().dropna()\n",
    "city_stationary = city.diff().dropna()\n",
    "\n"
   ]
  },
  {
   "cell_type": "code",
   "execution_count": null,
   "metadata": {
    "vscode": {
     "languageId": "plaintext"
    }
   },
   "outputs": [],
   "source": [
    "# Calculate the first difference of the time series\n",
    "city_stationary = city.diff().dropna()\n",
    "\n",
    "# Run ADF test on the differenced time series\n",
    "result = adfuller(city_stationary['city_population'])\n",
    "\n",
    "# Plot the differenced time series\n",
    "fig, ax = plt.subplots()\n",
    "city_stationary.plot(ax=ax)\n",
    "plt.show()\n",
    "\n",
    "# Print the test statistic and the p-value\n",
    "print('ADF Statistic:', result[0])\n",
    "print('p-value:', result[1])"
   ]
  },
  {
   "cell_type": "code",
   "execution_count": null,
   "metadata": {
    "vscode": {
     "languageId": "plaintext"
    }
   },
   "outputs": [],
   "source": [
    "# Calculate the second difference of the time series\n",
    "city_stationary = city.diff().diff().dropna()\n",
    "\n",
    "# Run ADF test on the differenced time series\n",
    "result = adfuller(city_stationary['city_population'])\n",
    "\n",
    "# Plot the differenced time series\n",
    "fig, ax = plt.subplots()\n",
    "city_stationary.plot(ax=ax)\n",
    "plt.show()\n",
    "\n",
    "# Print the test statistic and the p-value\n",
    "print('ADF Statistic:', result[0])\n",
    "print('p-value:', result[1])"
   ]
  }
 ],
 "metadata": {
  "language_info": {
   "name": "python"
  }
 },
 "nbformat": 4,
 "nbformat_minor": 2
}
