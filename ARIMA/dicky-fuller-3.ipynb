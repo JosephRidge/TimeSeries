{
 "cells": [
  {
   "cell_type": "markdown",
   "metadata": {},
   "source": [
    " \n",
    "![Screenshot at 2023-12-22 01-03-28](https://github.com/JosephRidge/project-creation-automation/assets/42699812/0b6359fc-811c-4968-a441-f4395747c17b)"
   ]
  },
  {
   "cell_type": "markdown",
   "metadata": {},
   "source": [
    "## Task\n",
    "Calculate the first difference of the time series amazon to test for stationarity and drop the NaNs.\n",
    "\n"
   ]
  },
  {
   "cell_type": "code",
   "execution_count": null,
   "metadata": {
    "vscode": {
     "languageId": "plaintext"
    }
   },
   "outputs": [],
   "source": [
    "# Calculate the first difference and drop the nans\n",
    "amazon_diff = amazon.diff().dropna()\n",
    "amazon_diff = amazon_diff.dropna()\n",
    "\n",
    "# Run test and print\n",
    "result_diff = adfuller(amazon_diff['close'])\n",
    "print(result_diff)"
   ]
  }
 ],
 "metadata": {
  "language_info": {
   "name": "python"
  }
 },
 "nbformat": 4,
 "nbformat_minor": 2
}
