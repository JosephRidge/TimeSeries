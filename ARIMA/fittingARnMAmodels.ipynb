{
 "cells": [
  {
   "cell_type": "markdown",
   "metadata": {},
   "source": [
    "### Fitting AR and MA models\n",
    "\n",
    "In this exercise you will fit an AR and an MA model to some data. The data here has been generated using the arma_generate_sample() function we used before.\n",
    "\n",
    "You know the real AR and MA parameters used to create this data so it is a really good way to gain some confidence with ARMA models and know you are doing it right. In the next exercise you'll move onto some real world data with confidence.\n",
    "\n",
    "There is a pandas DataFrame available in your environment called sample. It has two columns of different time series data.\n",
    "\n",
    "### Instructions (1)\n",
    "Fit an AR(2) model to the 'timeseries_1' column of sample.\n",
    "Print a summary of the fitted model.\n",
    "\n"
   ]
  },
  {
   "cell_type": "code",
   "execution_count": null,
   "metadata": {},
   "outputs": [],
   "source": [
    "# Instantiate the model\n",
    "model = ARIMA(sample['timeseries_1'], order=(2,0,0))\n",
    "\n",
    "# Fit the model\n",
    "results = model.fit()\n",
    "\n",
    "# Print summary\n",
    "print(results.summary())"
   ]
  },
  {
   "cell_type": "markdown",
   "metadata": {},
   "source": [
    "\n",
    "### Instructions (2) \n",
    "Using the information in the summary printed, which of the following set of parameters do you think was used to generate the 'timeseries_1' data?"
   ]
  },
  {
   "cell_type": "markdown",
   "metadata": {},
   "source": [
    "![image](https://github.com/JosephRidge/project-creation-automation/assets/42699812/05c18f9f-da7c-4fd4-b96b-c3b0d4e8a831)\n"
   ]
  },
  {
   "cell_type": "markdown",
   "metadata": {},
   "source": [
    "Fit an MA(3) model to the 'timeseries_2' column of sample.\n",
    "![image](https://github.com/JosephRidge/project-creation-automation/assets/42699812/39b9a3ae-588d-46a9-9ef0-14f8ae0723c4)\n",
    "\n"
   ]
  },
  {
   "cell_type": "code",
   "execution_count": null,
   "metadata": {},
   "outputs": [],
   "source": [
    "# Instantiate the model\n",
    "model = ARIMA(sample['timeseries_2'], order=(0,0,3))\n",
    "\n",
    "# Fit the model\n",
    "results = model.fit()\n",
    "\n",
    "# Print summary\n",
    "print(results.summary())"
   ]
  },
  {
   "cell_type": "markdown",
   "metadata": {},
   "source": [
    "![image](https://github.com/JosephRidge/project-creation-automation/assets/42699812/fc645a85-cb0d-431d-be43-3128fa718678)\n"
   ]
  }
 ],
 "metadata": {
  "language_info": {
   "name": "python"
  }
 },
 "nbformat": 4,
 "nbformat_minor": 2
}
