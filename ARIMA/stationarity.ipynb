{
 "cells": [
  {
   "cell_type": "markdown",
   "metadata": {},
   "source": [
    "## Interpreting the graphs  based on stationarity\n",
    "\n",
    "![Screenshot at 2023-12-21 23-08-50](https://github.com/JosephRidge/project-creation-automation/assets/42699812/5e016be6-cb6d-4c62-9f0d-c4f3a2b583bb)\n"
   ]
  },
  {
   "cell_type": "markdown",
   "metadata": {},
   "source": [
    "The top plot shown is a time series of Amazon stock close price. Is the stock close price stationary? No, since plot has a trend\n",
    "\n",
    "\n",
    "The middle plot shown is a time series of the return (percentage increase of price per day) of Amazon stock. Is the stock return stationary? No because middle plt the variance changes\n",
    "\n",
    "The bottom plot is a time series of the number of major earthquakes per year (earthquakes of magnitude 7.0 or greater).\n",
    "Is the number of major earthquakes per year stationary? Yes, becuase the plot appears to be stationary\n",
    "\n",
    "\n"
   ]
  }
 ],
 "metadata": {
  "language_info": {
   "name": "python"
  }
 },
 "nbformat": 4,
 "nbformat_minor": 2
}
