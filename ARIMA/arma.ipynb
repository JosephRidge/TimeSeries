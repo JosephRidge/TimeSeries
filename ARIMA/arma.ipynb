{
 "cells": [
  {
   "cell_type": "markdown",
   "metadata": {},
   "source": [
    "### Generating ARMA data\n",
    "In this exercise you will generate 100 days worth of AR/MA/ARMA data. Remember that in the real world applications, this data could be changes in Google stock prices, the energy requirements of New York City, or the number of cases of flu.\n",
    "\n",
    "You can use the arma_generate_sample() function available in your workspace to generate time series using different AR and MA coefficients.\n",
    "\n",
    "Remember for any model ARMA(p,q):\n",
    "\n",
    "The list ar_coefs has the form [1, -a_1, -a_2, ..., -a_p].\n",
    "The list ma_coefs has the form [1, m_1, m_2, ..., m_q],\n",
    "where a_i are the lag-i AR coefficients and m_j are the lag-j MA coefficients.\n",
    "\n"
   ]
  },
  {
   "cell_type": "markdown",
   "metadata": {},
   "source": [
    "Set ar_coefs and ma_coefs for an MA(1) model with MA lag-1 coefficient of -0.7.\n",
    "Generate a time series of 100 values."
   ]
  },
  {
   "cell_type": "code",
   "execution_count": null,
   "metadata": {},
   "outputs": [],
   "source": [
    "# Import data generation function and set random seed\n",
    "from statsmodels.tsa.arima_process import arma_generate_sample\n",
    "np.random.seed(1)\n",
    "\n",
    "# Set coefficients\n",
    "ar_coefs = [1]\n",
    "ma_coefs = [1, -0.7]\n",
    "\n",
    "# Generate data\n",
    "y = arma_generate_sample(ar_coefs, ma_coefs, nsample=100, scale=0.5)\n",
    "\n",
    "plt.plot(y)\n",
    "plt.ylabel(r'$y_t$')\n",
    "plt.xlabel(r'$t$')\n",
    "plt.show()"
   ]
  },
  {
   "cell_type": "markdown",
   "metadata": {},
   "source": [
    "Set the coefficients for an AR(2) model with AR lag-1 and lag-2 coefficients of 0.3 and 0.2 respectively."
   ]
  },
  {
   "cell_type": "code",
   "execution_count": null,
   "metadata": {},
   "outputs": [],
   "source": [
    "# Import data generation function and set random seed\n",
    "from statsmodels.tsa.arima_process import arma_generate_sample\n",
    "np.random.seed(2)\n",
    "\n",
    "# Set coefficients\n",
    "ar_coefs = [1,0.3]\n",
    "ma_coefs = [1,0.2]\n",
    "\n",
    "# Generate data\n",
    "y = arma_generate_sample(ar_coefs, ma_coefs, nsample=100, scale=0.5)\n",
    "\n",
    "plt.plot(y)\n",
    "plt.ylabel(r'$y_t$')\n",
    "plt.xlabel(r'$t$')\n",
    "plt.show()"
   ]
  },
  {
   "cell_type": "code",
   "execution_count": null,
   "metadata": {},
   "outputs": [],
   "source": [
    "# Import data generation function and set random seed\n",
    "from statsmodels.tsa.arima_process import arma_generate_sample\n",
    "np.random.seed(2)\n",
    "\n",
    "# Set coefficients\n",
    "ar_coefs = [1, -0.3, -0.2]  # AR lag-1 coefficient: -0.3, AR lag-2 coefficient: -0.2\n",
    "ma_coefs = [1]  # No MA terms in this example\n",
    "# Generate data\n",
    "y = arma_generate_sample(ar_coefs, ma_coefs, nsample=100, scale=0.5)\n",
    "\n",
    "plt.plot(y)\n",
    "plt.ylabel(r'$y_t$')\n",
    "plt.xlabel(r'$t$')\n",
    "plt.show()"
   ]
  },
  {
   "cell_type": "markdown",
   "metadata": {},
   "source": [
    "![Screenshot at 2023-12-22 08-46-13](https://github.com/Lorraine254/Time_Series_Analysis/assets/42699812/5006d159-2f96-42ba-ad37-6ed24895aed5)\n"
   ]
  },
  {
   "cell_type": "code",
   "execution_count": null,
   "metadata": {},
   "outputs": [],
   "source": [
    "# Import data generation function and set random seed\n",
    "from statsmodels.tsa.arima_process import arma_generate_sample\n",
    "np.random.seed(3)\n",
    "\n",
    "# Set coefficients\n",
    "ar_coefs = [1,0.2]\n",
    "ma_coefs = [1,0.3,0.4]\n",
    "\n",
    "# Generate data\n",
    "y = arma_generate_sample(ar_coefs, ma_coefs, nsample=100, scale=0.5)\n",
    "\n",
    "plt.plot(y)\n",
    "plt.ylabel(r'$y_t$')\n",
    "plt.xlabel(r'$t$')\n",
    "plt.show()"
   ]
  }
 ],
 "metadata": {
  "language_info": {
   "name": "python"
  }
 },
 "nbformat": 4,
 "nbformat_minor": 2
}
