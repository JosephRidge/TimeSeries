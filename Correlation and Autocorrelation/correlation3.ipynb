{
 "cells": [
  {
   "cell_type": "markdown",
   "metadata": {},
   "source": [
    "![Screenshot at 2023-12-12 11-10-35](https://github.com/JosephRidge/project-creation-automation/assets/42699812/bfeece88-3755-4d5b-9eea-0072b531a8c9)"
   ]
  },
  {
   "cell_type": "markdown",
   "metadata": {},
   "source": [
    "## Instructions\n",
    "\n",
    "Compute the correlation between x and y using the .corr() method.\n",
    "Run a regression:\n",
    "First convert the Series x to a DataFrame dfx.\n",
    "Add a constant using sm.add_constant(), assigning it to dfx1\n",
    "Regress y on dfx1 using sm.OLS().fit().\n",
    "Print out the results of the regression and compare the R-squared with the correlation."
   ]
  },
  {
   "cell_type": "code",
   "execution_count": null,
   "metadata": {
    "vscode": {
     "languageId": "plaintext"
    }
   },
   "outputs": [],
   "source": [
    "# Import the statsmodels module\n",
    "import statsmodels.api as sm\n",
    "\n",
    "# Compute correlation of x and y\n",
    "correlation = x.corr(y)\n",
    "print(\"The correlation between x and y is %4.2f\" %(correlation))\n",
    "\n",
    "# Convert the Series x to a DataFrame and name the column x\n",
    "dfx = pd.DataFrame(x, columns=['x'])\n",
    "\n",
    "# Add a constant to the DataFrame dfx\n",
    "dfx1 = sm.add_constant(dfx)\n",
    "\n",
    "# Regress y on dfx1\n",
    "result = sm.OLS(y, dfx1).fit()\n",
    "\n",
    "# Print out the results and look at the relationship between R-squared and the correlation above\n",
    "print(result.summary())"
   ]
  }
 ],
 "metadata": {
  "language_info": {
   "name": "python"
  }
 },
 "nbformat": 4,
 "nbformat_minor": 2
}
